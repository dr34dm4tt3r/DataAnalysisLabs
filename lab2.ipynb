{
 "cells": [
  {
   "cell_type": "markdown",
   "metadata": {},
   "source": [
    "# Лабораторна робота No2\n",
    "## ФБ-21 Хав'юк Андрій\n",
    "## Наука про дані: підготовчий етап\n",
    "\n",
    "**Мета роботи**: ознайомитися з основними кроками по роботі з даними –\n",
    "workflow від постановки задачі до написання пояснювальної записки,\n",
    "зрозуміти постановку задачі та природу даних, над якими виконується\n",
    "аналітичні операції\n",
    "\n",
    "**Основні поняття**: сирі дані (raw data), підготовка даних (data preparation)\n",
    "\n",
    "1. Для кожної із адміністративних одиниць України завантажити тестові структуровані файли, що містять значення VHI-індексу. \n",
    "Ця процедура має бути автоматизована, параметром процедури має бути індекс (номер) області. При зберіганні файлу до його\n",
    "імені потрібно додати дату та час завантаження;"
   ]
  },
  {
   "cell_type": "code",
   "execution_count": 1,
   "metadata": {},
   "outputs": [],
   "source": [
    "from datetime import datetime\n",
    "import urllib.request\n",
    "import os\n",
    "import pandas as pd"
   ]
  },
  {
   "cell_type": "code",
   "execution_count": 15,
   "metadata": {},
   "outputs": [
    {
     "name": "stdout",
     "output_type": "stream",
     "text": [
      "VHI for 1 is downloaded...\n",
      "VHI for 2 is downloaded...\n",
      "VHI for 3 is downloaded...\n",
      "VHI for 4 is downloaded...\n",
      "VHI for 5 is downloaded...\n",
      "VHI for 6 is downloaded...\n",
      "VHI for 7 is downloaded...\n",
      "VHI for 8 is downloaded...\n",
      "VHI for 9 is downloaded...\n",
      "VHI for 10 is downloaded...\n",
      "VHI for 11 is downloaded...\n",
      "VHI for 12 is downloaded...\n",
      "VHI for 13 is downloaded...\n",
      "VHI for 14 is downloaded...\n",
      "VHI for 15 is downloaded...\n",
      "VHI for 16 is downloaded...\n",
      "VHI for 17 is downloaded...\n",
      "VHI for 18 is downloaded...\n",
      "VHI for 19 is downloaded...\n",
      "VHI for 20 is downloaded...\n",
      "VHI for 21 is downloaded...\n",
      "VHI for 22 is downloaded...\n",
      "VHI for 23 is downloaded...\n",
      "VHI for 24 is downloaded...\n",
      "VHI for 25 is downloaded...\n",
      "VHI for 26 is downloaded...\n",
      "VHI for 27 is downloaded...\n"
     ]
    }
   ],
   "source": [
    "def grabber(i):\n",
    "    url=f\"https://www.star.nesdis.noaa.gov/smcd/emb/vci/VH/get_TS_admin.php?country=UKR&provinceID={i}&year1=1981&year2=2020&type=Mean\".format(i)\n",
    "    vhi_url = urllib.request.urlopen(url)\n",
    "    now = datetime.now()\n",
    "    date = now.strftime(\"%Y-%m-%d_%H-%M-%S\")\n",
    "    filename = f\"vhi_{i}_{date}.csv\"\n",
    "    with open(filename, \"wb\") as file:\n",
    "        file.write(vhi_url.read())\n",
    "\n",
    "    print(f\"VHI for {i} is downloaded...\")\n",
    "\n",
    "for i in range(1,28):\n",
    "    grabber(i)"
   ]
  },
  {
   "cell_type": "markdown",
   "metadata": {},
   "source": [
    "2. Зчитати завантажені текстові файли у фрейм (детальніше про роботу із фреймами буде розказано у подальших лабораторних роботах).\n",
    "Імена стовбців фрейму мають бути змістовними та легкими для сприйняття (не повинно бути спеціалізованих символів, пробілів\n",
    "тощо). Ця задача має бути реалізована у вигляді окремої процедури, яка на вхід приймає шлях до директорії, в якій зберігаються файли;"
   ]
  },
  {
   "cell_type": "code",
   "execution_count": 18,
   "metadata": {},
   "outputs": [
    {
     "name": "stdout",
     "output_type": "stream",
     "text": [
      "Error reading file lab2.ipynb: Error tokenizing data. C error: Expected 1 fields in line 4, saw 2\n",
      "\n",
      "       Year  Week    SMN     SMT    VCI    TCI    VHI area\n",
      "0      1982   1.0  0.053  260.31  45.01  39.46  42.23    1\n",
      "1      1982   2.0  0.054  262.29  46.83  31.75  39.29    1\n",
      "2      1982   3.0  0.055  263.82  48.13  27.24  37.68    1\n",
      "3      1982   4.0  0.053  265.33  46.09  23.91  35.00    1\n",
      "4      1982   5.0  0.050  265.66  41.46  26.65  34.06    1\n",
      "...     ...   ...    ...     ...    ...    ...    ...  ...\n",
      "53401  2020  48.0  0.115  269.40  57.48  31.51  44.49   27\n",
      "53402  2020  49.0  0.102  267.62  52.70  33.89  43.29   27\n",
      "53403  2020  50.0  0.095  266.71  50.56  30.20  40.38   27\n",
      "53404  2020  51.0  0.084  265.81  44.95  26.76  35.86   27\n",
      "53405  2020  52.0  0.077  264.70  42.45  27.64  35.05   27\n",
      "\n",
      "[53406 rows x 8 columns]\n"
     ]
    }
   ],
   "source": [
    "def reader():\n",
    "    headers = ['Year', 'Week', 'SMN', 'SMT', 'VCI', 'TCI', 'VHI', 'empty']\n",
    "    files = os.listdir()\n",
    "    dataframe = pd.DataFrame()\n",
    "    for i, file in enumerate(files):\n",
    "        path = file\n",
    "        try:\n",
    "            df = pd.read_csv(path, header=1, names=headers)\n",
    "            df = df.drop(df.loc[df[\"VHI\"] == -1].index)\n",
    "            df[\"area\"] = file.split(\"/\")[-1].split(\"_\")[1]\n",
    "            df[\"Year\"] = df[\"Year\"].str.replace(\"<tt><pre>\", \"\")\n",
    "            df = df[~df['Year'].str.contains('</pre></tt>')]\n",
    "            df.drop('empty', axis=1, inplace=True)\n",
    "            dataframe = pd.concat([dataframe, df]).drop_duplicates().reset_index(drop=True)\n",
    "        except Exception as e:\n",
    "            print(f\"Error reading file {file}: {e}\")\n",
    "    return dataframe\n",
    "\n",
    "df = reader()\n",
    "print(df)"
   ]
  },
  {
   "cell_type": "markdown",
   "metadata": {},
   "source": [
    "3. Реалізувати процедуру, яка змінить індекси областей, які використані на порталі NOAA на потрібні."
   ]
  },
  {
   "cell_type": "code",
   "execution_count": 4,
   "metadata": {},
   "outputs": [
    {
     "name": "stdout",
     "output_type": "stream",
     "text": [
      "      Year  Week    SMN     SMT    VCI    TCI    VHI      area\n",
      "0     1982   1.0  0.053  260.31  45.01  39.46  42.23  Cherkasy\n",
      "1     1982   2.0  0.054  262.29  46.83  31.75  39.29  Cherkasy\n",
      "2     1982   3.0  0.055  263.82  48.13  27.24  37.68  Cherkasy\n",
      "3     1982   4.0  0.053  265.33  46.09  23.91  35.00  Cherkasy\n",
      "4     1982   5.0  0.050  265.66  41.46  26.65  34.06  Cherkasy\n",
      "...    ...   ...    ...     ...    ...    ...    ...       ...\n",
      "2023  2020  48.0  0.115  269.40  57.48  31.51  44.49  Zhytomyr\n",
      "2024  2020  49.0  0.102  267.62  52.70  33.89  43.29  Zhytomyr\n",
      "2025  2020  50.0  0.095  266.71  50.56  30.20  40.38  Zhytomyr\n",
      "2026  2020  51.0  0.084  265.81  44.95  26.76  35.86  Zhytomyr\n",
      "2027  2020  52.0  0.077  264.70  42.45  27.64  35.05  Zhytomyr\n",
      "\n",
      "[53406 rows x 8 columns]\n"
     ]
    }
   ],
   "source": [
    "def id_changer(df):\n",
    "    cities =  {1: \"Cherkasy\", 2: \"Chernihiv\", 3: \"Chernivtsi\", 4: \"Crimea\", \n",
    "               5: \"Dnipropetrovs'k\", 6: \"Donets'k\", 7: \"Ivano-Frankivs'k\", 8: \"Kharkiv\", \n",
    "               9: \"Kherson\", 10: \"Khmel'nyts'kyy\", 11: \"Kyiv\", 12: \"Kiev City\", \n",
    "               13: \"Kirovohrad\", 14: \"Luhans'k\", 15: \"L'viv\", 16: \"Mykolayiv\", \n",
    "               17: \"Odessa\", 18: \"Poltava\", 19: \"Rivne\", 20: \"Sevastopol'\", \n",
    "               21: \"Sumy\", 22: \"Ternopil'\", 23: \"Transcarpathia\", 24: \"Vinnytsya\", \n",
    "               25: \"Volyn\", 26: \"Zaporizhzhya\", 27: \"Zhytomyr\"}\n",
    "    df['area'] = df['area'].replace(cities)\n",
    "    \n",
    "    return df\n",
    "\n",
    "df = id_changer(df)\n",
    "print(df)"
   ]
  },
  {
   "cell_type": "markdown",
   "metadata": {},
   "source": [
    "Реалізувати процедури для формування вибірок наступного виду\n",
    "(включаючи елементи аналізу):\n",
    "- Ряд VHI для області за вказаний рік, пошук екстремумів (min та\n",
    "max);"
   ]
  },
  {
   "cell_type": "code",
   "execution_count": 5,
   "metadata": {},
   "outputs": [
    {
     "name": "stdout",
     "output_type": "stream",
     "text": [
      "Cherkasy max value:  60.9\n",
      "Chernihiv max value:  66.55\n",
      "Chernivtsi max value:  66.4\n",
      "Crimea max value:  39.47\n",
      "Dnipropetrovs'k max value:  68.14\n",
      "Donets'k max value:  59.14\n",
      "Ivano-Frankivs'k max value:  62.91\n",
      "Kharkiv max value:  66.26\n",
      "Kherson max value:  63.49\n",
      "Khmel'nyts'kyy max value:  67.65\n",
      "Kyiv max value:  56.3\n",
      "Kiev City max value:  60.83\n",
      "Kirovohrad max value:  63.63\n",
      "Luhans'k max value:  64.39\n",
      "L'viv max value:  63.06\n",
      "Mykolayiv max value:  58.11\n",
      "Odessa max value:  46.71\n",
      "Poltava max value:  64.77\n",
      "Rivne max value:  66.01\n",
      "Sevastopol' max value:  51.22\n",
      "Sumy max value:  72.11\n",
      "Ternopil' max value:  68.55\n",
      "Transcarpathia max value:  68.67\n",
      "Vinnytsya max value:  64.12\n",
      "Volyn max value:  61.93\n",
      "Zaporizhzhya max value:  66.4\n",
      "Zhytomyr max value:  58.33\n",
      "Min:  29.27\n"
     ]
    }
   ],
   "source": [
    "def max(df, area, year):\n",
    "    vhi_max = df[(df[\"area\"] == area) & (df[\"Year\"] == year)][\"VHI\"].max()\n",
    "    return vhi_max\n",
    "\n",
    "def min(df, area, year):\n",
    "    vhi_min = df[(df[\"area\"] == area) & (df[\"Year\"] == year)][\"VHI\"].min()\n",
    "    return vhi_min\n",
    "\n",
    "for area in df[\"area\"].unique():\n",
    "    vhi_max = max(df, area, \"2020\")\n",
    "    print(area, \"max value: \", vhi_max)\n",
    "\n",
    "vhi_min = min(df, \"Kyiv\", \"2020\")\n",
    "print(\"Min: \", vhi_min)"
   ]
  },
  {
   "cell_type": "markdown",
   "metadata": {},
   "source": [
    "Реалізувати процедури для формування вибірок наступного виду (включаючи елементи аналізу):\n",
    "- Ряд VHI за всі роки для області, виявити роки з екстремальними посухами, які торкнулися більше вказаного відсотка області;"
   ]
  },
  {
   "cell_type": "code",
   "execution_count": 6,
   "metadata": {},
   "outputs": [
    {
     "name": "stdout",
     "output_type": "stream",
     "text": [
      "['1993' '2000' '2007']\n"
     ]
    }
   ],
   "source": [
    "def drought1(df):\n",
    "    df_area = df[df[\"area\"] == \"Lviv\"]\n",
    "    df_drought = df[(df.VHI <= 10)][\"Year\"].unique()\n",
    "    df_drought.sort()\n",
    "    return df_drought\n",
    "\n",
    "print(drought1(df))"
   ]
  },
  {
   "cell_type": "markdown",
   "metadata": {},
   "source": [
    "Реалізувати процедури для формування вибірок наступного виду (включаючи елементи аналізу):\n",
    "- Аналогічно для помірних посух"
   ]
  },
  {
   "cell_type": "code",
   "execution_count": 7,
   "metadata": {},
   "outputs": [
    {
     "name": "stdout",
     "output_type": "stream",
     "text": [
      "['1982' '1984' '1985' '1986' '1989' '1990' '1992' '1993' '1994' '1995'\n",
      " '1996' '1999' '2000' '2003' '2007' '2009' '2010' '2012' '2014' '2015'\n",
      " '2017' '2019' '2020']\n"
     ]
    }
   ],
   "source": [
    "def drought2(df):\n",
    "    df_area = df[df[\"area\"] == \"Lviv\"]\n",
    "    df_drought = df[(df.VHI >= 10) & (df.VHI <= 20)][\"Year\"].unique()\n",
    "    df_drought.sort()\n",
    "    return df_drought\n",
    "\n",
    "print(drought2(df))"
   ]
  },
  {
   "cell_type": "markdown",
   "metadata": {},
   "source": [
    "виявити роки, протягом яких екстремальні посухи торкнулися\n",
    "більше вказаного відсотка областей по Україні (20% областей -\n",
    "5 областей з 25)"
   ]
  },
  {
   "cell_type": "code",
   "execution_count": 32,
   "metadata": {},
   "outputs": [
    {
     "name": "stdout",
     "output_type": "stream",
     "text": [
      "[('2000', 6, '22.22%'), ('2007', 5, '18.52%')]\n"
     ]
    }
   ],
   "source": [
    "def global_extremal_drought(df, percentage):\n",
    "    result = []\n",
    "\n",
    "    for year, group_df in df.groupby('Year'):\n",
    "        total_areas = len(group_df['area'].unique())\n",
    "        drought_areas = len(group_df[group_df['VHI'] < 15]['area'].unique())\n",
    "\n",
    "        if (drought_areas / total_areas) > (percentage / 100):\n",
    "            percentage_str = f\"{round((drought_areas / total_areas) * 100, 2)}%\"\n",
    "            result.append((year, drought_areas, percentage_str))\n",
    "\n",
    "    return result\n",
    "\n",
    "drought_years_extreme = global_extremal_drought(df, 10)\n",
    "print(drought_years_extreme)"
   ]
  }
 ],
 "metadata": {
  "kernelspec": {
   "display_name": "Python 3",
   "language": "python",
   "name": "python3"
  },
  "language_info": {
   "codemirror_mode": {
    "name": "ipython",
    "version": 3
   },
   "file_extension": ".py",
   "mimetype": "text/x-python",
   "name": "python",
   "nbconvert_exporter": "python",
   "pygments_lexer": "ipython3",
   "version": "3.12.1"
  }
 },
 "nbformat": 4,
 "nbformat_minor": 2
}
