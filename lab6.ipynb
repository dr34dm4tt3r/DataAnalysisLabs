{
 "cells": [
  {
   "cell_type": "markdown",
   "metadata": {},
   "source": [
    "# Лабораторна робота №6\n",
    "## ФБ-21 Хав'юк Андрій\n",
    "## Застосування Numpy\n",
    "\n",
    "**Мета роботи**: отримати поглиблені навички роботи з numpy; дослідити поняття лінійної регресії та градієнтного спуску."
   ]
  },
  {
   "cell_type": "code",
   "execution_count": null,
   "metadata": {
    "vscode": {
     "languageId": "plaintext"
    }
   },
   "outputs": [],
   "source": []
  }
 ],
 "metadata": {
  "language_info": {
   "name": "python"
  }
 },
 "nbformat": 4,
 "nbformat_minor": 2
}
